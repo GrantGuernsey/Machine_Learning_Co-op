{
 "cells": [
  {
   "cell_type": "markdown",
   "metadata": {},
   "source": [
    "# 1. Install Dependencies"
   ]
  },
  {
   "cell_type": "code",
   "execution_count": null,
   "metadata": {},
   "outputs": [],
   "source": [
    "!pip install gym[atari]\n",
    "!pip install numpy\n",
    "!pip install keras==2.1.2\n",
    "!pip install tensorflow 1.15.5"
   ]
  },
  {
   "cell_type": "markdown",
   "metadata": {},
   "source": [
    "# 2. Import Dependencies"
   ]
  },
  {
   "cell_type": "code",
   "execution_count": 1,
   "metadata": {},
   "outputs": [
    {
     "name": "stderr",
     "output_type": "stream",
     "text": [
      "Using TensorFlow backend.\n"
     ]
    }
   ],
   "source": [
    "import numpy as np\n",
    "# import _pickle as pickle\n",
    "import gym\n",
    "from keras.models import Sequential\n",
    "from keras.layers import Dense, Conv2D, MaxPool2D, Flatten, BatchNormalization\n",
    "from keras.optimizers import rmsprop\n",
    "import keras.backend as K\n",
    "\n",
    "import matplotlib.pyplot as plt\n",
    "%matplotlib inline"
   ]
  },
  {
   "cell_type": "markdown",
   "metadata": {},
   "source": [
    "# 3. Create The Enviorment"
   ]
  },
  {
   "cell_type": "code",
   "execution_count": 2,
   "metadata": {},
   "outputs": [],
   "source": [
    "env = gym.make('PongDeterministic-v4')\n",
    "action_space = [4,5] #[No-op, up, down]"
   ]
  },
  {
   "cell_type": "markdown",
   "metadata": {},
   "source": [
    "# 4. Create Discounted Reward"
   ]
  },
  {
   "cell_type": "code",
   "execution_count": 3,
   "metadata": {},
   "outputs": [],
   "source": [
    "gamma = 0.99\n",
    "def discount_rewards(r):\n",
    "    \"\"\" take 1D float array of rewards and compute discounted reward \"\"\"\n",
    "    discounted_r = np.zeros_like(r)\n",
    "    running_add = 0\n",
    "    for t in reversed(range(len(discounted_r))):\n",
    "        if r[t] != 0: running_add = 0 # reset the sum, since this was a game boundary (pong specific!)\n",
    "        running_add =  r[t] + running_add * gamma # belman equation\n",
    "        discounted_r[t] = running_add\n",
    "    return discounted_r\n",
    "\n",
    "def discount_n_standardise(r):\n",
    "    dr = discount_rewards(r)\n",
    "    dr = (dr - dr.mean()) / dr.std()\n",
    "    return dr"
   ]
  },
  {
   "cell_type": "markdown",
   "metadata": {},
   "source": [
    "# 5. Prepare The Image"
   ]
  },
  {
   "cell_type": "code",
   "execution_count": 4,
   "metadata": {},
   "outputs": [],
   "source": [
    "def prepro(I):\n",
    "    \"\"\" prepro 210x160x3 uint8 frame into 80x80x1 float \"\"\"\n",
    "    I = I[35:195] # crop\n",
    "    I = I[::2,::2,0] # downsample by factor of 2\n",
    "    I[I == 144] = 0 # erase background (background type 1)\n",
    "    I[I == 109] = 0 # erase background (background type 2)\n",
    "    I[I != 0] = 1 # everything else (paddles, ball) just set to 1\n",
    "    return I.astype(np.float)[:,:,None]"
   ]
  },
  {
   "cell_type": "markdown",
   "metadata": {},
   "source": [
    "# 6. Create The Machine Learning Model"
   ]
  },
  {
   "cell_type": "code",
   "execution_count": 5,
   "metadata": {
    "collapsed": true
   },
   "outputs": [
    {
     "name": "stdout",
     "output_type": "stream",
     "text": [
      "WARNING:tensorflow:From C:\\Users\\gdgue\\Anaconda3\\lib\\site-packages\\keras\\backend\\tensorflow_backend.py:64: The name tf.get_default_graph is deprecated. Please use tf.compat.v1.get_default_graph instead.\n",
      "\n",
      "WARNING:tensorflow:From C:\\Users\\gdgue\\Anaconda3\\lib\\site-packages\\keras\\backend\\tensorflow_backend.py:497: The name tf.placeholder is deprecated. Please use tf.compat.v1.placeholder instead.\n",
      "\n",
      "WARNING:tensorflow:From C:\\Users\\gdgue\\Anaconda3\\lib\\site-packages\\keras\\backend\\tensorflow_backend.py:3636: The name tf.random_uniform is deprecated. Please use tf.random.uniform instead.\n",
      "\n",
      "WARNING:tensorflow:From C:\\Users\\gdgue\\Anaconda3\\lib\\site-packages\\keras\\backend\\tensorflow_backend.py:3464: The name tf.nn.max_pool is deprecated. Please use tf.nn.max_pool2d instead.\n",
      "\n",
      "WARNING:tensorflow:From C:\\Users\\gdgue\\Anaconda3\\lib\\site-packages\\keras\\backend\\tensorflow_backend.py:1264: calling reduce_prod_v1 (from tensorflow.python.ops.math_ops) with keep_dims is deprecated and will be removed in a future version.\n",
      "Instructions for updating:\n",
      "keep_dims is deprecated, use keepdims instead\n",
      "WARNING:tensorflow:From C:\\Users\\gdgue\\Anaconda3\\lib\\site-packages\\keras\\optimizers.py:711: The name tf.train.Optimizer is deprecated. Please use tf.compat.v1.train.Optimizer instead.\n",
      "\n",
      "WARNING:tensorflow:From C:\\Users\\gdgue\\Anaconda3\\lib\\site-packages\\keras\\backend\\tensorflow_backend.py:2915: The name tf.log is deprecated. Please use tf.math.log instead.\n",
      "\n",
      "_________________________________________________________________\n",
      "Layer (type)                 Output Shape              Param #   \n",
      "=================================================================\n",
      "conv2d_1 (Conv2D)            (None, 80, 80, 4)         40        \n",
      "_________________________________________________________________\n",
      "max_pooling2d_1 (MaxPooling2 (None, 40, 40, 4)         0         \n",
      "_________________________________________________________________\n",
      "conv2d_2 (Conv2D)            (None, 40, 40, 8)         296       \n",
      "_________________________________________________________________\n",
      "max_pooling2d_2 (MaxPooling2 (None, 20, 20, 8)         0         \n",
      "_________________________________________________________________\n",
      "conv2d_3 (Conv2D)            (None, 20, 20, 12)        876       \n",
      "_________________________________________________________________\n",
      "max_pooling2d_3 (MaxPooling2 (None, 10, 10, 12)        0         \n",
      "_________________________________________________________________\n",
      "conv2d_4 (Conv2D)            (None, 10, 10, 16)        1744      \n",
      "_________________________________________________________________\n",
      "max_pooling2d_4 (MaxPooling2 (None, 5, 5, 16)          0         \n",
      "_________________________________________________________________\n",
      "flatten_1 (Flatten)          (None, 400)               0         \n",
      "_________________________________________________________________\n",
      "dense_1 (Dense)              (None, 2)                 802       \n",
      "=================================================================\n",
      "Total params: 3,758\n",
      "Trainable params: 3,758\n",
      "Non-trainable params: 0\n",
      "_________________________________________________________________\n"
     ]
    }
   ],
   "source": [
    "model = Sequential()\n",
    "model.add(Conv2D(4, kernel_size=(3,3), padding='same', activation='relu', input_shape = (80,80,1)))\n",
    "model.add(MaxPool2D(pool_size=(2, 2)))\n",
    "model.add(Conv2D(8, kernel_size=(3,3), padding='same', activation='relu'))\n",
    "model.add(MaxPool2D(pool_size=(2, 2)))\n",
    "model.add(Conv2D(12, kernel_size=(3,3), padding='same', activation='relu'))\n",
    "model.add(MaxPool2D(pool_size=(2, 2)))\n",
    "model.add(Conv2D(16, kernel_size=(3,3), padding='same', activation='relu'))\n",
    "model.add(MaxPool2D(pool_size=(2, 2)))\n",
    "model.add(Flatten())\n",
    "model.add(Dense(len(action_space), activation='softmax'))\n",
    "model.compile(optimizer='rmsprop', loss='sparse_categorical_crossentropy') #\n",
    "\n",
    "model.summary()"
   ]
  },
  {
   "cell_type": "markdown",
   "metadata": {},
   "source": [
    "# 7. Train the Model"
   ]
  },
  {
   "cell_type": "code",
   "execution_count": 15,
   "metadata": {},
   "outputs": [
    {
     "name": "stdout",
     "output_type": "stream",
     "text": [
      "WARNING:tensorflow:From C:\\Users\\gdgue\\Anaconda3\\lib\\site-packages\\keras\\backend\\tensorflow_backend.py:2378: The name tf.Session is deprecated. Please use tf.compat.v1.Session instead.\n",
      "\n",
      "WARNING:tensorflow:From C:\\Users\\gdgue\\Anaconda3\\lib\\site-packages\\keras\\backend\\tensorflow_backend.py:159: The name tf.get_default_session is deprecated. Please use tf.compat.v1.get_default_session instead.\n",
      "\n",
      "WARNING:tensorflow:From C:\\Users\\gdgue\\Anaconda3\\lib\\site-packages\\keras\\backend\\tensorflow_backend.py:164: The name tf.ConfigProto is deprecated. Please use tf.compat.v1.ConfigProto instead.\n",
      "\n",
      "WARNING:tensorflow:From C:\\Users\\gdgue\\Anaconda3\\lib\\site-packages\\keras\\backend\\tensorflow_backend.py:173: The name tf.global_variables is deprecated. Please use tf.compat.v1.global_variables instead.\n",
      "\n",
      "WARNING:tensorflow:From C:\\Users\\gdgue\\Anaconda3\\lib\\site-packages\\keras\\backend\\tensorflow_backend.py:182: The name tf.is_variable_initialized is deprecated. Please use tf.compat.v1.is_variable_initialized instead.\n",
      "\n",
      "WARNING:tensorflow:From C:\\Users\\gdgue\\Anaconda3\\lib\\site-packages\\keras\\backend\\tensorflow_backend.py:189: The name tf.variables_initializer is deprecated. Please use tf.compat.v1.variables_initializer instead.\n",
      "\n",
      "WARNING:tensorflow:From C:\\Users\\gdgue\\Anaconda3\\lib\\site-packages\\tensorflow_core\\python\\ops\\math_grad.py:1424: where (from tensorflow.python.ops.array_ops) is deprecated and will be removed in a future version.\n",
      "Instructions for updating:\n",
      "Use tf.where in 2.0, which has the same broadcast rule as np.where\n",
      "WARNING:tensorflow:From C:\\Users\\gdgue\\Anaconda3\\lib\\site-packages\\keras\\backend\\tensorflow_backend.py:680: calling Constant.__init__ (from tensorflow.python.ops.init_ops) with dtype is deprecated and will be removed in a future version.\n",
      "Instructions for updating:\n",
      "Call initializer instance with the dtype argument instead of passing it to the constructor\n",
      "WARNING:tensorflow:From C:\\Users\\gdgue\\Anaconda3\\lib\\site-packages\\keras\\backend\\tensorflow_backend.py:958: The name tf.assign_add is deprecated. Please use tf.compat.v1.assign_add instead.\n",
      "\n",
      "WARNING:tensorflow:From C:\\Users\\gdgue\\Anaconda3\\lib\\site-packages\\keras\\backend\\tensorflow_backend.py:945: The name tf.assign is deprecated. Please use tf.compat.v1.assign instead.\n",
      "\n",
      "Episode: 50, Average Loss: -0.0062, Average Reward: -18.7600, Average steps: 950.8400\n",
      "Episode: 100, Average Loss: -0.0087, Average Reward: -18.1200, Average steps: 957.3000\n",
      "Episode: 150, Average Loss: -0.0099, Average Reward: -17.5867, Average steps: 965.2933\n",
      "Episode: 200, Average Loss: -0.0115, Average Reward: -17.2250, Average steps: 970.0950\n",
      "Episode: 250, Average Loss: -0.0136, Average Reward: -16.2100, Average steps: 979.2450\n",
      "Episode: 300, Average Loss: -0.0155, Average Reward: -15.3650, Average steps: 987.1350\n",
      "Episode: 350, Average Loss: -0.0215, Average Reward: -14.7000, Average steps: 986.8400\n",
      "Episode: 400, Average Loss: -0.0248, Average Reward: -15.3300, Average steps: 956.9450\n",
      "Episode: 450, Average Loss: -0.0316, Average Reward: -14.1200, Average steps: 960.0350\n",
      "Episode: 500, Average Loss: -0.0368, Average Reward: -13.1950, Average steps: 954.0800\n",
      "Episode: 550, Average Loss: -0.0356, Average Reward: -12.1950, Average steps: 957.7550\n",
      "Episode: 600, Average Loss: -0.0377, Average Reward: -9.1150, Average steps: 991.5250\n",
      "Episode: 650, Average Loss: -0.0350, Average Reward: -7.6650, Average steps: 991.5750\n",
      "Episode: 700, Average Loss: -0.0337, Average Reward: -5.6150, Average steps: 998.7000\n",
      "Episode: 750, Average Loss: -0.0338, Average Reward: -3.7550, Average steps: 1000.0000\n",
      "Episode: 800, Average Loss: -0.0314, Average Reward: -2.1850, Average steps: 1000.0000\n",
      "Episode: 850, Average Loss: -0.0311, Average Reward: -1.2850, Average steps: 1000.0000\n",
      "Episode: 900, Average Loss: -0.0316, Average Reward: -0.5700, Average steps: 1000.0000\n",
      "Episode: 950, Average Loss: -0.0320, Average Reward: 0.1000, Average steps: 1000.0000\n",
      "Episode: 1000, Average Loss: -0.0323, Average Reward: 0.0350, Average steps: 1000.0000\n"
     ]
    }
   ],
   "source": [
    "episodes = 0\n",
    "n_episodes = 1000\n",
    "reward_sums = np.zeros(n_episodes)\n",
    "losses = np.zeros(n_episodes)\n",
    "time_taken = np.zeros(n_episodes)\n",
    "reward_sum = 0\n",
    "input_shape = (80, 80, 1)\n",
    "\n",
    "prev_x = None\n",
    "buffer = 1000\n",
    "xs = np.zeros((buffer,)+input_shape)\n",
    "ys = np.zeros((buffer,1))\n",
    "rs = np.zeros((buffer))\n",
    "\n",
    "k = 0\n",
    "\n",
    "observation = env.reset()\n",
    "\n",
    "while episodes < n_episodes:\n",
    "    # Get the current state of environment\n",
    "    x = prepro(observation)\n",
    "    xs[k] = x - prev_x if prev_frame is not None else np.zeros(input_shape)\n",
    "    prev_x = x\n",
    "    \n",
    "    # Take an action given current state of policy model\n",
    "    p = model.predict(xs[k][None,:,:,:])\n",
    "    a = np.random.choice(len(action_space), p=p[0])\n",
    "    action = action_space[a]\n",
    "    ys[k] = a\n",
    "    \n",
    "    # Renew state of environment\n",
    "    observation, reward, done, _ = env.step(action)\n",
    "    reward_sum += reward #record total rewards\n",
    "    rs[k] = reward # record reward per step\n",
    "    \n",
    "    k += 1\n",
    "    \n",
    "    if done or k==buffer:\n",
    "        reward_sums[episodes] = reward_sum\n",
    "        reward_sum = 0\n",
    "        \n",
    "        # Gather state, action (y), and rewards (and preprocess)\n",
    "        ep_x = xs[:k]\n",
    "        ep_y = ys[:k]\n",
    "        ep_r = rs[:k]\n",
    "        ep_r = discount_n_standardise(ep_r)\n",
    "        \n",
    "        model.fit(ep_x, ep_y, sample_weight=ep_r, batch_size=512, epochs=1, verbose=0)\n",
    "        \n",
    "        time_taken[episodes] = k\n",
    "        k = 0\n",
    "        prev_x = None\n",
    "        observation = env.reset()\n",
    "        losses[episodes] = model.evaluate(ep_x, \n",
    "                                          ep_y,\n",
    "                                          sample_weight=ep_r,\n",
    "                                          batch_size=len(ep_x), \n",
    "                                          verbose=0)\n",
    "        episodes += 1\n",
    "        \n",
    "        # Print out metrics like rewards, how long each episode lasted etc.\n",
    "        if episodes%(n_episodes//20) == 0:\n",
    "            ave_reward = np.mean(reward_sums[max(0,episodes-200):episodes])\n",
    "            ave_loss = np.mean(losses[max(0,episodes-200):episodes])\n",
    "            ave_time = np.mean(time_taken[max(0,episodes-200):episodes])\n",
    "            print('Episode: {0:d}, Average Loss: {1:.4f}, Average Reward: {2:.4f}, Average steps: {3:.4f}'\n",
    "                  .format(episodes, ave_loss, ave_reward, ave_time))"
   ]
  },
  {
   "cell_type": "code",
   "execution_count": 24,
   "metadata": {},
   "outputs": [
    {
     "data": {
      "image/png": "[encoded data removed]",
      "text/plain": [
       "<Figure size 432x288 with 1 Axes>"
      ]
     },
     "metadata": {
      "needs_background": "light"
     },
     "output_type": "display_data"
    }
   ],
   "source": [
    "window = 20\n",
    "plt.plot(reward_sums[:episodes])\n",
    "plt.plot(np.convolve(reward_sums[:episodes], np.ones((window,))/window, mode='valid'))\n",
    "plt.savefig(\"keras_1000ep.jpg\")\n",
    "plt.show()\n"
   ]
  },
  {
   "cell_type": "code",
   "execution_count": 20,
   "metadata": {},
   "outputs": [],
   "source": [
    "observation = env.reset()\n",
    "cum_reward = 0\n",
    "frames = []\n",
    "prev_frame = None\n",
    "for t in range(100000):\n",
    "    x = prepo(observation) \n",
    "    diff = x - prev_frame if prev_frame is not None else np.zeros(im_shape)\n",
    "    p = model.predict(diff[None,:,:,:])\n",
    "    prev_frame = x\n",
    "    a = np.random.choice(len(action_space), p=p[0])\n",
    "    action = action_space[a]\n",
    "    \n",
    "    # Render into buffer. \n",
    "    env.render()\n",
    "    observation, reward, done, info = env.step(action)\n",
    "    if done:\n",
    "        break\n",
    "        \n",
    "# env.render(close=True)\n"
   ]
  },
  {
   "cell_type": "code",
   "execution_count": 21,
   "metadata": {},
   "outputs": [],
   "source": [
    "env.close()"
   ]
  },
  {
   "cell_type": "code",
   "execution_count": null,
   "metadata": {},
   "outputs": [],
   "source": []
  }
 ],
 "metadata": {
  "kernelspec": {
   "display_name": "Python 3",
   "language": "python",
   "name": "python3"
  },
  "language_info": {
   "codemirror_mode": {
    "name": "ipython",
    "version": 3
   },
   "file_extension": ".py",
   "mimetype": "text/x-python",
   "name": "python",
   "nbconvert_exporter": "python",
   "pygments_lexer": "ipython3",
   "version": "3.7.3"
  }
 },
 "nbformat": 4,
 "nbformat_minor": 2
}
